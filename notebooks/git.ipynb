{
 "metadata": {
  "language_info": {
   "codemirror_mode": {
    "name": "ipython",
    "version": 3
   },
   "file_extension": ".py",
   "mimetype": "text/x-python",
   "name": "python",
   "nbconvert_exporter": "python",
   "pygments_lexer": "ipython3",
   "version": "3.9.5"
  },
  "orig_nbformat": 2,
  "kernelspec": {
   "name": "python395jvsc74a57bd0aee8b7b246df8f9039afb4144a1f6fd8d2ca17a180786b69acc140d282b71a49",
   "display_name": "Python 3.9.5 64-bit"
  },
  "metadata": {
   "interpreter": {
    "hash": "aee8b7b246df8f9039afb4144a1f6fd8d2ca17a180786b69acc140d282b71a49"
   }
  }
 },
 "nbformat": 4,
 "nbformat_minor": 2,
 "cells": [
  {
   "cell_type": "code",
   "execution_count": 1,
   "metadata": {},
   "outputs": [
    {
     "output_type": "stream",
     "name": "stdout",
     "text": [
      "a\nb\nc\n"
     ]
    }
   ],
   "source": [
    "%%bash\n",
    "\n",
    "for i in a b c;\n",
    "do \n",
    "echo $i \n",
    "done"
   ]
  },
  {
   "cell_type": "code",
   "execution_count": 55,
   "metadata": {},
   "outputs": [
    {
     "output_type": "stream",
     "name": "stdout",
     "text": [
      "GP = [/Users/mmaher/shell_extensions/.git]\nYES GIT\n"
     ]
    }
   ],
   "source": [
    "%%bash\n",
    "cd ~/shell_extensions/notebooks\n",
    "# cd ~\n",
    "GP=`git rev-parse --git-dir 2>/dev/null`\n",
    "echo \"GP = [$GP]\"\n",
    "if [ \"$GP\" == \"\" ]; then\n",
    "  echo \"NO git folder\"\n",
    "else\n",
    "  echo \"YES GIT\"\n",
    "fi"
   ]
  },
  {
   "cell_type": "code",
   "execution_count": 56,
   "metadata": {},
   "outputs": [
    {
     "output_type": "error",
     "ename": "SyntaxError",
     "evalue": "invalid syntax (<ipython-input-56-86e654924ccc>, line 1)",
     "traceback": [
      "\u001b[0;36m  File \u001b[0;32m\"<ipython-input-56-86e654924ccc>\"\u001b[0;36m, line \u001b[0;32m1\u001b[0m\n\u001b[0;31m    git config github.user\u001b[0m\n\u001b[0m        ^\u001b[0m\n\u001b[0;31mSyntaxError\u001b[0m\u001b[0;31m:\u001b[0m invalid syntax\n"
     ]
    }
   ],
   "source": [
    "git config github.user"
   ]
  },
  {
   "cell_type": "code",
   "execution_count": 58,
   "metadata": {},
   "outputs": [
    {
     "output_type": "stream",
     "name": "stdout",
     "text": [
      "does not exist.\n"
     ]
    }
   ],
   "source": [
    "%%bash\n",
    "cd ~/shell_extensions/notebooks\n",
    "# cd ~\n",
    "if [ ! -f \"README.md\" ]; then\n",
    "    echo \"does not exist.\"\n",
    "fi"
   ]
  }
 ]
}